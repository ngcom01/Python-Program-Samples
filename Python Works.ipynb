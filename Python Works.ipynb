{
 "cells": [
  {
   "cell_type": "code",
   "execution_count": 11,
   "id": "968b3d3b",
   "metadata": {},
   "outputs": [
    {
     "name": "stdout",
     "output_type": "stream",
     "text": [
      "[4, 3, 5, 6, 4, 4, 4, 5, 6, 3, 4, 5, 3, 6, 6, 4, 4, 4, 4, 4, 4, 4, 6, 6, 6, 3, 4, 4, 3, 5, 3, 4, 3, 4, 3, 5, 4, 5, 6, 6, 3, 4, 6, 3, 6, 3, 3, 5, 4, 3]\n",
      "3\n"
     ]
    }
   ],
   "source": [
    "##Exercise 3.8:Question 1'write a program that generates and prints 50 random integers each between 3 and 6'\n",
    "\n",
    "mylist = []\n",
    "\n",
    "import random\n",
    "for i in range(0,50):\n",
    "    x = random.randint(3,6)\n",
    "    mylist.append(x)\n",
    "\n",
    "print(mylist) ## - To print the result as an array of integers between 3 and 6.\n",
    "print(x) ## - To print a single number"
   ]
  },
  {
   "cell_type": "code",
   "execution_count": 12,
   "id": "2fcb9487",
   "metadata": {},
   "outputs": [
    {
     "name": "stdout",
     "output_type": "stream",
     "text": [
      "20\n",
      "3\n",
      "8000\n"
     ]
    }
   ],
   "source": [
    "##Exercise 3.8:Question 2 (Option 1) 'write a program that generates a random number x, between 1 and 50, a random number y \n",
    "## between 2 and 5 and computes x^y'\n",
    "import random\n",
    "\n",
    "x = random.randint(0,50)\n",
    "for i in range(0, 50):\n",
    "    y = random.randint(2,5)\n",
    "print(x)\n",
    "print(y)\n",
    "\n",
    "k = x**y\n",
    "\n",
    "print(k)"
   ]
  },
  {
   "cell_type": "code",
   "execution_count": 13,
   "id": "32d3dde7",
   "metadata": {},
   "outputs": [
    {
     "name": "stdout",
     "output_type": "stream",
     "text": [
      "26   3   17576\n"
     ]
    }
   ],
   "source": [
    "##Exercise 3.8:Question 2 (Option 2)'write a program that generates a random number x, between 1 and 50, a random number y \n",
    "## between 2 and 5 and computes x^y'\n",
    "import random \n",
    "\n",
    "x = random.randint(1, 50)\n",
    "y = random.randint(2, 5)\n",
    "z =pow(x, y)\n",
    "\n",
    "print(x, \" \", y, \" \",z)"
   ]
  },
  {
   "cell_type": "code",
   "execution_count": 14,
   "id": "89a16724",
   "metadata": {},
   "outputs": [
    {
     "name": "stdout",
     "output_type": "stream",
     "text": [
      "Christian\n",
      "Christian\n",
      "A random number from range is:  2\n"
     ]
    }
   ],
   "source": [
    "##Exercise 3.8:Question 3 'write a program that generates a random number between 1 and 10 and prints your name that many times'\n",
    "\n",
    "import random\n",
    "x = random.randint(1,10)\n",
    "for i in range (x):\n",
    "    print(\"Christian\")\n",
    "print(\"A random number from range is: \", x)"
   ]
  },
  {
   "cell_type": "code",
   "execution_count": 15,
   "id": "9a00054b",
   "metadata": {},
   "outputs": [
    {
     "name": "stdout",
     "output_type": "stream",
     "text": [
      "3.39\n"
     ]
    }
   ],
   "source": [
    "##Exercise 3.8:Question 4 'write a program that generates a random decimal number between 1 and 10 with two decimal places\n",
    "# of accuracy. Examples are 1.23, 3.45, 9.80 and 5.00' \n",
    "\n",
    "import random\n",
    "\n",
    "x =round(random.uniform(1,10), 2)\n",
    "print(x)"
   ]
  },
  {
   "cell_type": "code",
   "execution_count": 16,
   "id": "8a7ed33e",
   "metadata": {},
   "outputs": [
    {
     "name": "stdout",
     "output_type": "stream",
     "text": [
      "2\n",
      "2\n",
      "1\n",
      "1\n",
      "1\n",
      "5\n",
      "6\n",
      "2\n",
      "7\n",
      "4\n",
      "12\n",
      "2\n",
      "3\n",
      "9\n",
      "12\n",
      "4\n",
      "1\n",
      "15\n",
      "1\n",
      "14\n",
      "7\n",
      "17\n",
      "21\n",
      "15\n",
      "7\n",
      "3\n",
      "3\n",
      "11\n",
      "13\n",
      "9\n",
      "19\n",
      "32\n",
      "14\n",
      "9\n",
      "1\n",
      "36\n",
      "10\n",
      "4\n",
      "31\n",
      "9\n",
      "39\n",
      "14\n",
      "43\n",
      "27\n",
      "6\n",
      "34\n",
      "44\n",
      "20\n",
      "37\n",
      "37\n"
     ]
    }
   ],
   "source": [
    "##Exercise 3.8:Question 5 'write a program that generates 50 random number such that the first number is between 1 and 2\n",
    "## the second is between 1 and 3, the third is between 1 and 4, .... and the last is between 1 and 51.\n",
    "\n",
    "import random\n",
    "\n",
    "x = 2\n",
    "while x <= 51:\n",
    "    r = random.randint(1,x)\n",
    "    x = x+1\n",
    "    print (r)"
   ]
  },
  {
   "cell_type": "code",
   "execution_count": 18,
   "id": "0e75e837",
   "metadata": {},
   "outputs": [
    {
     "name": "stdout",
     "output_type": "stream",
     "text": [
      "Enter the value of x: 4\n",
      "Enter the value of y: 2\n",
      "temp1 =  2.0 , temp2 =  6.0 , z = 0.3333333333333333\n"
     ]
    }
   ],
   "source": [
    "##Exercise 3.8:Question 6 'write a program that ask the user to enter two numbers, x and y, and computes (x - y)/(x + y). \n",
    "\n",
    "##using a float to define the type of number:\n",
    "x = float(input(\"Enter the value of x: \"))\n",
    "y = float(input(\"Enter the value of y: \"))\n",
    "\n",
    "##using an integer to define the type of number:\n",
    "#x = int(input(\"Enter the value of x: \"))\n",
    "#y = int(input(\"Enter the value of y: \"))\n",
    "\n",
    "temp1 = x - y\n",
    "temp2 = x + y\n",
    " \n",
    "z = temp1/temp2\n",
    "\n",
    "print(\"temp1 = \", temp1, \", temp2 = \", temp2, \", z =\", z)"
   ]
  },
  {
   "cell_type": "code",
   "execution_count": 19,
   "id": "dac43fe1",
   "metadata": {},
   "outputs": [
    {
     "name": "stdout",
     "output_type": "stream",
     "text": [
      "Enter the number of seconds: 200\n",
      "The minute is 3 and the second is 20\n",
      "3 minutes and 20 seconds\n"
     ]
    }
   ],
   "source": [
    "##Exercise 3.8:Question 8 'Write a program that asks the user for a number of seconds and prints out how many minutes and \n",
    "##seconds that is.For instance, 200 seconds are printed as 3 mins and 20 seconds.[Hint. use // and % to get minutes and seconds]\n",
    "\n",
    "#Explanation: seconds=int(input(\"Enter the number of seconds\"))\n",
    "#Enter the value of the seconds.minute=int(seconds/60)\n",
    "#change the value of seconds in minute. \n",
    "#print(\"The minute is \"+str(minute)+\" and the second is \"+str(seconds))# It is used to print the value of minute and the seconds.\n",
    "\n",
    "totalSecs = int(input(\"Enter the number of seconds: \"))\n",
    "\n",
    "mins = totalSecs // 60\n",
    "secs = totalSecs % 60\n",
    "\n",
    "print(\"The minute is \"+str(mins)+\" and the second is \"+str(secs))\n",
    "print(mins, \"minutes and\", secs, \"seconds\")"
   ]
  },
  {
   "cell_type": "code",
   "execution_count": 20,
   "id": "3dfe24ad",
   "metadata": {},
   "outputs": [
    {
     "name": "stdout",
     "output_type": "stream",
     "text": [
      "Enter hour: 5\n",
      "Enter am(1) and pm(2): 2\n",
      "Enter how many hours ahead: 6\n",
      "New hour: 11 pm \n"
     ]
    }
   ],
   "source": [
    "##Exercise 3.8:Question 9 'write a program that ask the user for an hour between 1 and 12 and for how many hours in the \n",
    "##future they want to go. Print out what the hour will be that many hours into the future.\n",
    "\n",
    "hr = int(input(\"Enter hour: \"))\n",
    "ampm = int(input(\"Enter am(1) and pm(2): \"))\n",
    "\n",
    "delay = int(input(\"Enter how many hours ahead: \"))\n",
    "f = ' '\n",
    "nh = 0\n",
    "if ampm == 1:\n",
    "    nh = hr + delay\n",
    "    if int(nh) > 12:\n",
    "        f = 'pm'\n",
    "        nh = nh % 12\n",
    "\n",
    "    else:\n",
    "        f = 'am'\n",
    "        nh = nh\n",
    "\n",
    "if ampm == 2:\n",
    "        nh = hr + delay\n",
    "        if int(nh) > 12:\n",
    "            f = 'am'\n",
    "            nh = nh % 12\n",
    "\n",
    "        else:\n",
    "            f = 'pm'\n",
    "            nh = nh\n",
    "print(\"New hour: {} {} \".format(nh, f))"
   ]
  },
  {
   "cell_type": "code",
   "execution_count": 21,
   "id": "131f3ccd",
   "metadata": {},
   "outputs": [
    {
     "name": "stdout",
     "output_type": "stream",
     "text": [
      "Enter your weight in Kilograms x: 74\n",
      "Your weight in Pounds is 163.14\n"
     ]
    }
   ],
   "source": [
    "##Exercise 3.8:Question 11'write a program that ask the user for a weight in kilograms. The program should convert it to pounds,\n",
    "## printing the answer rounded to the nearest tenth of a pound.'\n",
    "\n",
    "x = float(input(\"Enter your weight in Kilograms x: \")) \n",
    "pounds = round(x * 2.2046, 2)\n",
    "print(\"Your weight in Pounds\",\"is\",pounds)"
   ]
  },
  {
   "cell_type": "code",
   "execution_count": 22,
   "id": "df75f0d4",
   "metadata": {},
   "outputs": [
    {
     "name": "stdout",
     "output_type": "stream",
     "text": [
      "Enter a number: 5\n",
      "The factorial of 5 is 120\n"
     ]
    }
   ],
   "source": [
    "##Exercise 3.8:Question 12'write a program that ask the user for a number and prints out the factorial of that number.'\n",
    "\n",
    "num = int(input(\"Enter a number: \"))\n",
    "\n",
    "factorial = 1\n",
    "\n",
    "# check if the number is negative, positive or zero\n",
    "if num < 0:\n",
    "   print(\"Sorry, factorial does not exist for negative numbers\")\n",
    "elif num == 0:\n",
    "   print(\"The factorial of 0 is 1\")\n",
    "else:\n",
    "   for i in range(1,num + 1):\n",
    "       factorial = factorial*i\n",
    "   print(\"The factorial of\",num,\"is\",factorial)"
   ]
  },
  {
   "cell_type": "code",
   "execution_count": 24,
   "id": "8ddba3d3",
   "metadata": {},
   "outputs": [
    {
     "name": "stdout",
     "output_type": "stream",
     "text": [
      "Enter the number x: 10\n",
      "Enter the number y: 12\n",
      "Enter the number z: 14\n",
      "The sine of x =  -0.54\n",
      "The cosine of y =  0.84\n",
      "The tanget of z =  7.24\n"
     ]
    }
   ],
   "source": [
    "##Exercise 3.8:Question 13'write a program that ask the user for a number and prints out the sine, cosine and tanget \n",
    "##of that number.' \n",
    "\n",
    "#A demo of cos() function\n",
    " \n",
    "#from math import cos\n",
    "#x = int(input(\"Enter the number x: \")) \n",
    "#cos_x = round(cos(x),2)\n",
    "#print (\"The cosine of x = \",  cos_x)\n",
    "\n",
    "#A demo of sin() function\n",
    "#from math import sin\n",
    "#x = int(input(\"Enter the number x: \")) \n",
    "#sin_x = round(sin(x),2)\n",
    "#print (\"The sine of x = \",  sin_x)\n",
    "\n",
    "#A demo of tan() function\n",
    "from math import tan\n",
    "#x = int(input(\"Enter the number x: \")) \n",
    "#tan_x = round(tan(x),2)\n",
    "#print (\"The tanget of x = \",  tan_x)\n",
    "\n",
    "#Combination of all programs into one\n",
    "from math import sin\n",
    "from math import cos\n",
    "from math import tan\n",
    "x = int(input(\"Enter the number x: \")) \n",
    "y = int(input(\"Enter the number y: \"))\n",
    "z = int(input(\"Enter the number z: \"))\n",
    "\n",
    "sin_x = round(sin(x),2)\n",
    "cos_y = round(cos(y),2)\n",
    "tan_z = round(tan(z),2)\n",
    "\n",
    "print (\"The sine of x = \",  sin_x)\n",
    "print (\"The cosine of y = \",  cos_y)\n",
    "print (\"The tanget of z = \",  tan_z)"
   ]
  },
  {
   "cell_type": "code",
   "execution_count": 25,
   "id": "2bf236cc",
   "metadata": {},
   "outputs": [
    {
     "name": "stdout",
     "output_type": "stream",
     "text": [
      "Enter an angle in degrees: 60\n",
      "The sine of x =  0.87\n"
     ]
    }
   ],
   "source": [
    "#Exercise 3.8:Quest 14'write a program that ask the user to enter an angle in degrees and prints out the sine of that number.' \n",
    "\n",
    "import math\n",
    "\n",
    "x = int(input(\"Enter an angle in degrees: \")) \n",
    "sine_x = math.sin(math.radians(x))\n",
    "sine_x = round(sine_x,2) \n",
    "print (\"The sine of x = \",sine_x )"
   ]
  },
  {
   "cell_type": "code",
   "execution_count": 27,
   "id": "d27b0fd8",
   "metadata": {},
   "outputs": [
    {
     "name": "stdout",
     "output_type": "stream",
     "text": [
      "Enter a lenght in centimeter: 36\n",
      "Lenght in inches =  14.173228346456693\n"
     ]
    }
   ],
   "source": [
    "##Exercise 4.5 Question 1\n",
    "\n",
    "length = float(input(\"Enter a lenght in centimeter: \"))\n",
    "if(length < 0):\n",
    "    print( \"Entry is invalid\")\n",
    "elif length / 2.54:\n",
    "    l = length / 2.54\n",
    "    print (\"Lenght in inches = \", l)"
   ]
  },
  {
   "cell_type": "code",
   "execution_count": 28,
   "id": "e1596e96",
   "metadata": {},
   "outputs": [
    {
     "name": "stdout",
     "output_type": "stream",
     "text": [
      "Enter temperature: 37\n",
      "Which units you enter fahrenheit or celsius: \n",
      "Enter 0 for celsius: \n",
      "Enter 1 for fahrenheit: \n",
      "0\n",
      "Temperature:  37.0  in celsius:  19.22222222222222\n"
     ]
    }
   ],
   "source": [
    "##Exercise 4.5 Question 2\n",
    "\n",
    "temperature= float(input(\"Enter temperature: \"))\n",
    "print (\"Which units you enter fahrenheit or celsius: \")\n",
    "print (\"Enter 0 for celsius: \")\n",
    "print (\"Enter 1 for fahrenheit: \")\n",
    "\n",
    "num = int(input())\n",
    "\n",
    "if num == 0:\n",
    "    celsius = (temperature - 32 / 1.8)\n",
    "    print (\"Temperature: \", temperature, \" in celsius: \", celsius)\n",
    "\n",
    "elif num == 1:\n",
    "    fahrenheit = (temperature * 1.8) +32\n",
    "    print (\"Temperature: \", temperature, \"in fahrenheit: \", fahrenheit)"
   ]
  },
  {
   "cell_type": "code",
   "execution_count": 29,
   "id": "aad9e6dc",
   "metadata": {},
   "outputs": [
    {
     "name": "stdout",
     "output_type": "stream",
     "text": [
      "Enter temperature in celsius: 37\n",
      "Temperature is at the normal range\n"
     ]
    }
   ],
   "source": [
    "##Exercise 4.5 Question 3\n",
    "\n",
    "temp = float(input (\"Enter temperature in celsius: \"))\n",
    "\n",
    "if  temp< -273.15:\n",
    "    print (\"Temperature is invalid\")\n",
    "\n",
    "elif temp == -273.15:\n",
    "    print (\"Temperature is absolute 0\")\n",
    "\n",
    "elif temp > -273.15 and temp < 0:\n",
    "    print (\"Temperature is below freezing\")\n",
    "\n",
    "elif temp == 0:\n",
    "    print (\"Temperature is at the freezing point\")\n",
    "\n",
    "elif temp > 0 and temp < 100:\n",
    "    print (\"Temperature is at the normal range\")\n",
    "\n",
    "elif temp == 100:\n",
    "    print (\"Temperature is at the boiling point\")\n",
    "\n",
    "else:\n",
    "    print(\"Temperature is above the boiling point\")"
   ]
  },
  {
   "cell_type": "code",
   "execution_count": 30,
   "id": "1cab73d3",
   "metadata": {},
   "outputs": [
    {
     "name": "stdout",
     "output_type": "stream",
     "text": [
      "Enter number of credits taken: 85\n",
      "Student is a senior\n"
     ]
    }
   ],
   "source": [
    "##Exercise 4.5 Question 4\n",
    "\n",
    "credit = int(input (\"Enter number of credits taken: \"))\n",
    "\n",
    "if credit <= 23:\n",
    "    print (\"Student is a freshman\")\n",
    "\n",
    "elif credit > 24 and credit < 53:\n",
    "    print (\"Student is a sophmore\")\n",
    "\n",
    "elif credit > 54 and credit < 83:\n",
    "    print (\"Student is a junior\")\n",
    "\n",
    "elif credit >= 83:\n",
    "    print (\"Student is a senior\")"
   ]
  },
  {
   "cell_type": "code",
   "execution_count": 33,
   "id": "1873a732",
   "metadata": {},
   "outputs": [
    {
     "name": "stdout",
     "output_type": "stream",
     "text": [
      "Enter a number: 9\n",
      "The sum of divisors of 9 is 13\n"
     ]
    }
   ],
   "source": [
    "##Exercise 4.5 Question 5\n",
    "\n",
    "num = int(input(\"Enter a number: \"))\n",
    "divisors_sum = 0\n",
    "\n",
    "# Loop through numbers from 1 to num (inclusive)\n",
    "for i in range(1, num+1):\n",
    "    # if i divides numbers num evenly, add it to the sum of divisors\n",
    "    if num % i == 0:\n",
    "        divisors_sum += i\n",
    "print(\"The sum of divisors of\" , num, \"is\" , divisors_sum)"
   ]
  },
  {
   "cell_type": "code",
   "execution_count": 34,
   "id": "eb62dbc9",
   "metadata": {},
   "outputs": [
    {
     "name": "stdout",
     "output_type": "stream",
     "text": [
      "[6, 28, 496, 8128]\n"
     ]
    }
   ],
   "source": [
    "###Exercise 4.5 Question 6\n",
    "\n",
    "def is_perfect(num):\n",
    "    sum_divisors = 0\n",
    "    for i in range(1, num):\n",
    "        if num % i == 0:\n",
    "            sum_divisors += i\n",
    "    return sum_divisors == num\n",
    "\n",
    "perfect_numbers = []\n",
    "for num in range(1, 10000):\n",
    "    if is_perfect(num):\n",
    "        perfect_numbers.append(num)\n",
    "print(perfect_numbers)"
   ]
  },
  {
   "cell_type": "code",
   "execution_count": 36,
   "id": "402a3088",
   "metadata": {},
   "outputs": [
    {
     "name": "stdout",
     "output_type": "stream",
     "text": [
      "Enter an integer: 6\n",
      "6 is squarefree\n"
     ]
    }
   ],
   "source": [
    "##Exercise 4.5 Question 7\n",
    "\n",
    "def is_squarefree(num):\n",
    "    for i in range(2, int(num ** 0.5) + 1):\n",
    "        if num % (i ** 2) == 0:\n",
    "            return False\n",
    "    return True\n",
    "\n",
    "num = int(input(\"Enter an integer: \"))\n",
    "if is_squarefree(num):\n",
    "    print(num, \"is squarefree\")\n",
    "else:\n",
    "    print(num, \"is not squarefree\")"
   ]
  },
  {
   "cell_type": "code",
   "execution_count": 37,
   "id": "f9fa0455",
   "metadata": {},
   "outputs": [
    {
     "name": "stdout",
     "output_type": "stream",
     "text": [
      "Enter the value of x: 2\n",
      "Enter the value of y: 4\n",
      "Enter the value of z: 8\n",
      "Before swapping: x =  2 , y =  4 , z = 8\n",
      "After swapping: x =  4 , y =  8 , z = 2\n"
     ]
    }
   ],
   "source": [
    "# ##Exercise 4.5 Question 8 'write a program that swaps the values of three variables x, y, and z, \n",
    "# so that x gets the value of y, y gets the value of z, and z gets the value of x.'\n",
    "\n",
    "x = int(input(\"Enter the value of x: \"))\n",
    "y = int(input(\"Enter the value of y: \"))\n",
    "z = int(input(\"Enter the value of z: \"))\n",
    "\n",
    "print(\"Before swapping: x = \", x, \", y = \", y, \", z =\", z)\n",
    "\n",
    "temp = x\n",
    "x = y\n",
    "y = z \n",
    "z = temp\n",
    "\n",
    "print(\"After swapping: x = \", x, \", y = \", y, \", z =\", z)"
   ]
  },
  {
   "cell_type": "code",
   "execution_count": 39,
   "id": "4298b2c3",
   "metadata": {},
   "outputs": [
    {
     "name": "stdout",
     "output_type": "stream",
     "text": [
      "964\n"
     ]
    }
   ],
   "source": [
    "##Exercise 4.5 Question 9\n",
    "\n",
    "def count_integers():\n",
    "    count = 0\n",
    "    for i in range(1, 1001):\n",
    "        if i**(1/2) != int(i**(1/2)) and i**(1/3) != int(i**(1/3)) and i**(1/5) != int(i**(1/5)):\n",
    "            count += 1\n",
    "    return count\n",
    "print(count_integers())"
   ]
  },
  {
   "cell_type": "code",
   "execution_count": 40,
   "id": "348b10f6",
   "metadata": {},
   "outputs": [
    {
     "name": "stdout",
     "output_type": "stream",
     "text": [
      "Enter score 1: 15\n",
      "Enter score 2: 45\n",
      "Enter score 3: 36\n",
      "Enter score 4: 29\n",
      "Enter score 5: 67\n",
      "Enter score 6: 80\n",
      "Enter score 7: 53\n",
      "Enter score 8: 72\n",
      "Enter score 9: 38\n",
      "Enter score 10: 30\n",
      "Highest score : 80\n",
      "Lowest score : 15\n",
      "Average score: 46.5\n",
      "Second highest score:  72\n",
      "Average score (after dropping two lowest):  52.625\n"
     ]
    }
   ],
   "source": [
    "###Exercise 4.5 Question 10 'Ask the user to enter 10 test scores. write a program to do the following:'\n",
    "\n",
    "##Define a list to hold the test scores\n",
    "scores = []\n",
    "\n",
    "##Ask the user to enter 10 scores\n",
    "for i in range (10):\n",
    "    score = int(input(f\"Enter score {i+1}: \"))\n",
    "    \n",
    "# Check if the score is greater than 100\n",
    "    if score > 100:\n",
    "        print(\"Warning: Score is greater than 100\")\n",
    "    \n",
    "    scores.append(score)\n",
    "\n",
    "#Sort the score ia ascending order\n",
    "scores.sort()\n",
    "\n",
    "## (a) Print out the highest and lowest scores\n",
    "print(\"Highest score :\" , scores [-1])\n",
    "print(\"Lowest score :\" , scores [0])\n",
    "\n",
    "##(b) Calculate and print out the average of the scores\n",
    "average = sum(scores) / len(scores)\n",
    "print(\"Average score:\", average)\n",
    "\n",
    "##(c) Print out the second highest score\n",
    "print(\"Second highest score: \", scores [-2])\n",
    "\n",
    "##(d)\n",
    "\n",
    "##(e) Drop the two lowest scores and print out the average of the rest\n",
    "dropped_scores = scores [2:]\n",
    "dropped_average = sum(dropped_scores) / len(dropped_scores)\n",
    "print (\"Average score (after dropping two lowest): \", dropped_average)"
   ]
  },
  {
   "cell_type": "code",
   "execution_count": null,
   "id": "1336f321",
   "metadata": {},
   "outputs": [],
   "source": []
  }
 ],
 "metadata": {
  "kernelspec": {
   "display_name": "Python 3 (ipykernel)",
   "language": "python",
   "name": "python3"
  },
  "language_info": {
   "codemirror_mode": {
    "name": "ipython",
    "version": 3
   },
   "file_extension": ".py",
   "mimetype": "text/x-python",
   "name": "python",
   "nbconvert_exporter": "python",
   "pygments_lexer": "ipython3",
   "version": "3.9.13"
  }
 },
 "nbformat": 4,
 "nbformat_minor": 5
}
